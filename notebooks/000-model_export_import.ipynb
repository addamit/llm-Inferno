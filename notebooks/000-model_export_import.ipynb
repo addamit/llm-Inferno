{
 "cells": [
  {
   "cell_type": "markdown",
   "id": "7039a958-251f-4ad9-9240-0e394c03be13",
   "metadata": {},
   "source": [
    "Lets use a custom safetensors file to export and import tensors. \n",
    "Starting with a toy example. "
   ]
  },
  {
   "cell_type": "code",
   "execution_count": 1,
   "id": "94f3facd-ddc2-49b4-a9ac-6152bf2d15e1",
   "metadata": {},
   "outputs": [],
   "source": [
    "import torch\n",
    "from safetensors.torch import save_file as torch_save_file"
   ]
  },
  {
   "cell_type": "code",
   "execution_count": 2,
   "id": "d3acba92-296e-43d0-93e6-8288327db4fb",
   "metadata": {},
   "outputs": [],
   "source": [
    "tensor_1 = torch.randn(2, 4)\n",
    "tensor_2 = torch.randn(3, 5, 10)\n"
   ]
  },
  {
   "cell_type": "code",
   "execution_count": 3,
   "id": "49e44723-0583-43f7-bc5c-1f884cfe7c39",
   "metadata": {},
   "outputs": [],
   "source": [
    "# Metadata\n",
    "metadata = {\"description\": \"Example tensors\", \"version\": \"1.0.0\", \"Arch\" : \"Dummy\"}"
   ]
  },
  {
   "cell_type": "code",
   "execution_count": 12,
   "id": "d13ef339-b8ae-44a6-a92a-45f8cccbf563",
   "metadata": {},
   "outputs": [],
   "source": [
    "# Save tensors with metadata\n",
    "torch_save_file({\n",
    "    \"tensor1\": tensor_1, \n",
    "    \"tensor2\": tensor_2 },\n",
    "    \"model.safetensors\", metadata=metadata)"
   ]
  },
  {
   "cell_type": "code",
   "execution_count": 5,
   "id": "5db191de-da9b-4748-853b-c944e15db412",
   "metadata": {},
   "outputs": [],
   "source": [
    "# now lets load. But lets start with the metadata loading only\n"
   ]
  },
  {
   "cell_type": "code",
   "execution_count": 13,
   "id": "08265ccf-2a60-4c52-aa33-7eaf52cee3ba",
   "metadata": {},
   "outputs": [],
   "source": [
    "from safetensors import safe_open\n",
    "from safetensors.torch import load_file"
   ]
  },
  {
   "cell_type": "code",
   "execution_count": 14,
   "id": "ce00fa8d-9bad-412d-92b8-fbb2b3f4379d",
   "metadata": {},
   "outputs": [
    {
     "name": "stdout",
     "output_type": "stream",
     "text": [
      "Metadata: {'Arch': 'Dummy', 'version': '1.0.0', 'description': 'Example tensors'}\n"
     ]
    }
   ],
   "source": [
    "# Load metadata\n",
    "with safe_open(\"model.safetensors\", framework=\"pt\", device=\"cpu\") as f:\n",
    "    metadata = f.metadata()\n",
    "\n",
    "print(\"Metadata:\", metadata)"
   ]
  },
  {
   "cell_type": "code",
   "execution_count": 20,
   "id": "b101156e-c636-4ecf-b505-928a6681aebc",
   "metadata": {},
   "outputs": [
    {
     "name": "stdout",
     "output_type": "stream",
     "text": [
      "Tensors loaded: dict_keys(['tensor1', 'tensor2'])\n",
      "Tensor1: torch.Size([2, 4])\n",
      "Tensor2: torch.Size([3, 5, 10])\n"
     ]
    }
   ],
   "source": [
    "# Conditionally load tensors based on metadata\n",
    "# Adding coditions will be useful for us as we build out support for multiple architectures\n",
    "\n",
    "if metadata.get(\"version\") == \"1.0.0\":\n",
    "    tensors = load_file(\"model.safetensors\")\n",
    "    print(\"Tensors loaded:\", tensors.keys())\n",
    "    \n",
    "    print(\"Tensor1:\", tensors[\"tensor1\"].shape)\n",
    "    print(\"Tensor2:\", tensors[\"tensor2\"].shape)\n",
    "    \n",
    "else:\n",
    "    print(\"Condition not met, tensors not loaded.\")"
   ]
  },
  {
   "cell_type": "code",
   "execution_count": 16,
   "id": "2a065fb4-4ca9-4789-b6e2-d81fef6f1be5",
   "metadata": {},
   "outputs": [],
   "source": [
    "assert torch.equal(tensors['tensor1'], tensor_1), \"Tensors are not equal\""
   ]
  },
  {
   "cell_type": "code",
   "execution_count": 19,
   "id": "7d41c29b-e5f6-4bb5-9ade-76b526df3081",
   "metadata": {},
   "outputs": [],
   "source": [
    "assert torch.equal(tensors['tensor2'], tensor_2), \"Tensors are not equal\""
   ]
  },
  {
   "cell_type": "markdown",
   "id": "d4f7ea64-251e-425a-9ca1-cd984499c2ab",
   "metadata": {},
   "source": [
    "We can see the saved and loaded tensors match. We will use this technique to export the tensos from our export script and load in our inference engine"
   ]
  }
 ],
 "metadata": {
  "kernelspec": {
   "display_name": "Python 3 (ipykernel)",
   "language": "python",
   "name": "python3"
  },
  "language_info": {
   "codemirror_mode": {
    "name": "ipython",
    "version": 3
   },
   "file_extension": ".py",
   "mimetype": "text/x-python",
   "name": "python",
   "nbconvert_exporter": "python",
   "pygments_lexer": "ipython3",
   "version": "3.9.12"
  }
 },
 "nbformat": 4,
 "nbformat_minor": 5
}
